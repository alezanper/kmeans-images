{
 "cells": [
  {
   "cell_type": "code",
   "execution_count": 1,
   "metadata": {},
   "outputs": [],
   "source": [
    "def getSeeds(image, centers):\n",
    "    \"\"\"\n",
    "    Function that randomly generates centers\n",
    "    \n",
    "     @param image: this is the image that will be used to establish the initial points of the algorithm\n",
    "     @type centers: number of centers to generate\n",
    "    \n",
    "     @return: returns the centers calculated randomly\n",
    "    \n",
    "    \"\"\" \n",
    "    X_Image = range(0, image.shape[0])\n",
    "    Y_Image = range(0, image.shape[1])\n",
    "    seeds=[]\n",
    "    for i in range(centers):\n",
    "        x = rd.choice(X_Image)\n",
    "        y = rd.choice(Y_Image)\n",
    "        gray = round(255*image[x,y])        \n",
    "        seeds.append([x,y,gray])\n",
    "        \n",
    "    return seeds"
   ]
  },
  {
   "cell_type": "code",
   "execution_count": 2,
   "metadata": {},
   "outputs": [],
   "source": [
    "def getMinEucDistance(pixel, numClusters, onlyGray):\n",
    "    \"\"\"\n",
    "     Function that is in charge of analyzing a pixel with respect to all the centers that are being analyzed. The distance is measured\n",
    "     using only the gray level as a reference and returns the index of the cluster to which the pixel belongs\n",
    "    \n",
    "     @param pixel: it is the pixel to analyze with respect to the rest of the centers\n",
    "     @type numClusters: is the set of centers against which the pixel will be compared in distance\n",
    "    \n",
    "     @return: returns the index of the set of clusters with respect to which the Euclidean distance is less\n",
    "    \n",
    "    \"\"\" \n",
    "    \n",
    "    eucDistances=[]\n",
    "    for point in numClusters:\n",
    "        if(onlyGray):\n",
    "            eucDistances.append(distance.euclidean(pixel[2], point[2]))\n",
    "        else:\n",
    "            eucDistances.append(distance.euclidean(pixel, point))\n",
    "            \n",
    "    minDistanceIndex=np.argmin(eucDistances)\n",
    "    return minDistanceIndex "
   ]
  },
  {
   "cell_type": "code",
   "execution_count": null,
   "metadata": {},
   "outputs": [],
   "source": []
  }
 ],
 "metadata": {
  "kernelspec": {
   "display_name": "Python 3",
   "language": "python",
   "name": "python3"
  },
  "language_info": {
   "codemirror_mode": {
    "name": "ipython",
    "version": 3
   },
   "file_extension": ".py",
   "mimetype": "text/x-python",
   "name": "python",
   "nbconvert_exporter": "python",
   "pygments_lexer": "ipython3",
   "version": "3.8.3"
  }
 },
 "nbformat": 4,
 "nbformat_minor": 4
}
